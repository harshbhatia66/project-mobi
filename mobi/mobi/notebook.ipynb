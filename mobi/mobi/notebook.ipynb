{
 "cells": [
  {
   "cell_type": "markdown",
   "metadata": {},
   "source": [
    "### Automating Image Uploads to Django Exercise Database given GIFs"
   ]
  },
  {
   "cell_type": "code",
   "execution_count": 6,
   "metadata": {},
   "outputs": [
    {
     "name": "stdout",
     "output_type": "stream",
     "text": [
      "Updated Exercise ID 37: Status 200\n",
      "Updated Exercise ID 38: Status 200\n",
      "Updated Exercise ID 40: Status 200\n",
      "Updated Exercise ID 41: Status 200\n",
      "Updated Exercise ID 42: Status 200\n",
      "Updated Exercise ID 43: Status 200\n",
      "Updated Exercise ID 44: Status 200\n",
      "Updated Exercise ID 45: Status 200\n",
      "Updated Exercise ID 46: Status 200\n",
      "Updated Exercise ID 48: Status 200\n",
      "Updated Exercise ID 50: Status 200\n",
      "Updated Exercise ID 51: Status 200\n",
      "Updated Exercise ID 52: Status 200\n",
      "Updated Exercise ID 53: Status 200\n",
      "Updated Exercise ID 54: Status 200\n",
      "Updated Exercise ID 55: Status 200\n",
      "Updated Exercise ID 56: Status 200\n",
      "Updated Exercise ID 57: Status 200\n",
      "Updated Exercise ID 58: Status 200\n",
      "Updated Exercise ID 59: Status 200\n",
      "Updated Exercise ID 60: Status 200\n",
      "Updated Exercise ID 61: Status 200\n",
      "Updated Exercise ID 63: Status 200\n",
      "Updated Exercise ID 64: Status 200\n"
     ]
    }
   ],
   "source": [
    "import requests\n",
    "from PIL import Image\n",
    "import io\n",
    "import tempfile\n",
    "\n",
    "API_URL = \"http://127.0.0.1:8000/api/exercises/\"\n",
    "TOKEN = \"e445512134e867f974d0fa91ad5fdd19f97bc1fa\"\n",
    "HEADERS = {\"Authorization\": f\"Token {TOKEN}\"}\n",
    "\n",
    "def download_gif(gif_url):\n",
    "    response = requests.get(gif_url)\n",
    "    if response.status_code == 200:\n",
    "        return Image.open(io.BytesIO(response.content))\n",
    "    else:\n",
    "        return None\n",
    "\n",
    "def extract_and_save_image(gif):\n",
    "    with tempfile.NamedTemporaryFile(delete=False, suffix='.jpg') as tmp:\n",
    "        gif.seek(0)  # Go to the first frame\n",
    "        gif.convert('RGB').save(tmp, 'JPEG')\n",
    "        tmp.seek(0)  # Rewind file pointer\n",
    "        return tmp.name\n",
    "\n",
    "def update_exercise_image(exercise_id, image_path):\n",
    "    with open(image_path, 'rb') as img:\n",
    "        files = {'image': img}\n",
    "        response = requests.patch(f\"{API_URL}{exercise_id}/\", headers=HEADERS, files=files)\n",
    "        return response.status_code\n",
    "\n",
    "for exercise_id in range(36, 65):\n",
    "    response = requests.get(f\"{API_URL}{exercise_id}/\", headers=HEADERS)\n",
    "    if response.status_code == 200:\n",
    "        exercise = response.json()\n",
    "        if not exercise['image'] and exercise['gif_url']:\n",
    "            gif = download_gif(exercise['gif_url'])\n",
    "            if gif:\n",
    "                image_path = extract_and_save_image(gif)\n",
    "                status = update_exercise_image(exercise_id, image_path)\n",
    "                print(f\"Updated Exercise ID {exercise_id}: Status {status}\")\n",
    "            else:\n",
    "                print(f\"Failed to download GIF for Exercise ID {exercise_id}\")\n",
    "    else:\n",
    "        print(f\"Failed to fetch Exercise ID {exercise_id}\")\n"
   ]
  }
 ],
 "metadata": {
  "kernelspec": {
   "display_name": "env",
   "language": "python",
   "name": "python3"
  },
  "language_info": {
   "codemirror_mode": {
    "name": "ipython",
    "version": 3
   },
   "file_extension": ".py",
   "mimetype": "text/x-python",
   "name": "python",
   "nbconvert_exporter": "python",
   "pygments_lexer": "ipython3",
   "version": "3.9.13"
  }
 },
 "nbformat": 4,
 "nbformat_minor": 2
}
