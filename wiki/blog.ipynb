{
 "cells": [
  {
   "cell_type": "markdown",
   "metadata": {},
   "source": [
    "# 04/01/2024 Progress Update on Our Gym App Development\n",
    "\n",
    "## Today's Focus: Enhancing Workout Sessions and API Design\n",
    "\n",
    "As we continue developing our gym application, today's focus was on refining the workout session functionalities and making decisions on API endpoint design. Our goal is to create a user-friendly, intuitive application that simplifies workout tracking and customization.\n",
    "\n",
    "### Workout Sessions and Session Exercises\n",
    "\n",
    "One of the critical features of our app is the ability for users to manage their workout sessions effectively. Each workout session consists of multiple session exercises that users can view, modify, or remove as needed. Here's how we've improved this process:\n",
    "\n",
    "#### Viewing Session Exercises\n",
    "\n",
    "- Users can view all session exercises associated with a specific workout session.\n",
    "- We've implemented API filtering to ensure users only see exercises relevant to their active sessions.\n",
    "\n",
    "#### Modifying Session Exercises\n",
    "\n",
    "- Users can easily modify session exercises within their workout sessions.\n",
    "- We've added functionality for adding new exercises, updating existing ones, and deleting unwanted exercises.\n",
    "\n",
    "### API Endpoint Design Considerations\n",
    "\n",
    "A significant part of today's discussion revolved around the API endpoint design. We considered two approaches:\n",
    "\n",
    "1. **Nested Endpoint**: `workout_session/<id>/session_exercise/<id>/`\n",
    "   - Pros: Contextual clarity and scoped operations.\n",
    "   - Cons: Potential complexity and redundancy.\n",
    "\n",
    "2. **Separate Endpoint**: `/session_exercises/<id>/`\n",
    "   - Pros: Simplicity, flexibility, and consistency.\n",
    "   - Cons: Less explicit in showing the relationship between workout sessions and exercises.\n",
    "\n",
    "#### Decision\n",
    "\n",
    "After weighing the pros and cons, we decided to keep the endpoints separate and straightforward. This decision aligns with our goal of maintaining simplicity and consistency throughout our application's API design.\n",
    "\n",
    "### Next Steps\n",
    "\n",
    "Moving forward, we will continue refining our application's features and start working on integrating these backend improvements into our frontend for a seamless user experience.\n",
    "\n",
    "### Conclusion\n",
    "\n",
    "Today's development session was productive and insightful. We made significant strides in enhancing the workout session management features and solidifying our API design approach. As we progress, we remain committed to creating an application that meets the needs of fitness enthusiasts and simplifies their workout tra\n"
   ]
  },
  {
   "cell_type": "markdown",
   "metadata": {},
   "source": [
    "#07/01/2024 Progress Update on Our Gym App Development\n",
    "\n",
    "## Todo: \n",
    "1. Be able to replace a session exercise in a workout session with another exercise\n",
    "- Do we want to clear all the sets or keep them the same (tbc)\n",
    "2. Delete a session exercise from a workout session\n",
    "\n",
    "## TODO:\n",
    "1. Figure out sets\n",
    "2. Setup Tests to test the API\n",
    "3. Create a workout session without a workout template"
   ]
  },
  {
   "cell_type": "markdown",
   "metadata": {},
   "source": []
  }
 ],
 "metadata": {
  "language_info": {
   "name": "python"
  }
 },
 "nbformat": 4,
 "nbformat_minor": 2
}
